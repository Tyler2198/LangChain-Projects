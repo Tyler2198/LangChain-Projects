{
 "cells": [
  {
   "cell_type": "markdown",
   "metadata": {},
   "source": [
    "# Build a simple LLM application with chat models and prompt templates\n",
    "\n",
    "This application will make simple financial analyses of different stocks. This is a relatively simple LLM application - it's just a single LLM call plus some prompting. "
   ]
  },
  {
   "cell_type": "code",
   "execution_count": 5,
   "metadata": {},
   "outputs": [],
   "source": [
    "import getpass\n",
    "import os\n",
    "\n",
    "os.environ[\"LANGSMITH_TRACING\"] = \"true\"\n",
    "os.environ[\"LANGSMITH_API_KEY\"] = getpass.getpass()"
   ]
  },
  {
   "cell_type": "code",
   "execution_count": 6,
   "metadata": {},
   "outputs": [],
   "source": [
    "import getpass\n",
    "import os\n",
    "\n",
    "if not os.environ.get(\"GROQ_API_KEY\"):\n",
    "  os.environ[\"GROQ_API_KEY\"] = getpass.getpass(\"Enter API key for Groq: \")\n",
    "\n",
    "from langchain.chat_models import init_chat_model\n",
    "\n",
    "model = init_chat_model(\"llama3-8b-8192\", model_provider=\"groq\")"
   ]
  },
  {
   "cell_type": "markdown",
   "metadata": {},
   "source": [
    "We start off by setting a system message and a human message from the user where we specify that we want a financial anlysis of ASML."
   ]
  },
  {
   "cell_type": "code",
   "execution_count": 16,
   "metadata": {},
   "outputs": [
    {
     "name": "stderr",
     "output_type": "stream",
     "text": [
      "Failed to send compressed multipart ingest: langsmith.utils.LangSmithAuthError: Authentication failed for https://api.smith.langchain.com/runs/multipart. HTTPError('401 Client Error: Unauthorized for url: https://api.smith.langchain.com/runs/multipart', '{\"error\":\"Unauthorized\"}\\n')\n"
     ]
    },
    {
     "name": "stderr",
     "output_type": "stream",
     "text": [
      "Failed to send compressed multipart ingest: langsmith.utils.LangSmithAuthError: Authentication failed for https://api.smith.langchain.com/runs/multipart. HTTPError('401 Client Error: Unauthorized for url: https://api.smith.langchain.com/runs/multipart', '{\"error\":\"Unauthorized\"}\\n')\n"
     ]
    }
   ],
   "source": [
    "from langchain_core.messages import HumanMessage, SystemMessage\n",
    "\n",
    "messages = [\n",
    "    SystemMessage(\"Analyze the financials of the stock I tell you.\"),\n",
    "    HumanMessage(\"ASML\"),\n",
    "]\n",
    "\n",
    "response = model.invoke(messages)"
   ]
  },
  {
   "cell_type": "code",
   "execution_count": 18,
   "metadata": {},
   "outputs": [
    {
     "data": {
      "text/plain": [
       "AIMessage(content=\"ASML Holding NV (ASML) is a Dutch technology company that designs, manufactures, and services semiconductor equipment for the global semiconductor industry. Here's an analysis of its financials:\\n\\n**Financial Highlights**\\n\\n* Market Capitalization: ~€220 billion (approximately $250 billion USD)\\n* Revenue (2020): €14.9 billion (approximately $17.2 billion USD)\\n* Net Income (2020): €4.9 billion (approximately $5.6 billion USD)\\n* Earnings Per Share (2020): €12.34\\n* Cash and Cash Equivalents (2020): €13.4 billion (approximately $15.2 billion USD)\\n* Debt (2020): €6.4 billion (approximately $7.3 billion USD)\\n* Return on Equity (2020): 34.4%\\n* Return on Assets (2020): 25.3%\\n\\n**Key Strengths**\\n\\n1. Dominant Market Position: ASML is the leading supplier of lithography systems, holding a market share of over 70%. This position provides significant pricing power and allows the company to drive industry standards.\\n2. Strong Revenue Growth: ASML has consistently demonstrated strong revenue growth, driven by the increasing demand for semiconductors in various industries, such as smartphones, computers, and automotive.\\n3. High Margin Business: ASML operates in a high-margin business, with gross margins typically above 50%. This is due to the company's focus on high-tech, capital-intensive products with low production costs.\\n4. Strong Cash Generation: ASML generates significant cash from operations, which has allowed the company to invest in research and development, pay dividends, and reduce debt.\\n\\n**Key Weaknesses**\\n\\n1. Capital-Intensive Business: ASML's business requires significant investments in research and development, manufacturing, and service infrastructure. This can lead to high capital expenditures and debt levels.\\n2. Dependence on a Few Customers: ASML's revenue is highly concentrated among a few large customers, primarily chipmakers such as TSMC, Samsung, and Intel. This concentration of customers can lead to revenue volatility and potential risks if these customers experience financial difficulties.\\n3. Cyclical Industry: The semiconductor industry is cyclical, with demand and revenue often fluctuating based on market trends and economic conditions. ASML's financial performance can be impacted by these cyclical fluctuations.\\n4. High Research and Development Expenditures: ASML invests heavily in research and development to stay ahead in the rapidly evolving semiconductor industry. While this investment is essential for the company's long-term success, it can also contribute to high operating expenses and pressure on profitability.\\n\\n**Valuation**\\n\\nASML's valuation is relatively high, with a price-to-earnings (P/E) ratio of around 40-50. This is due to the company's strong financial performance, dominant market position, and high growth prospects. However, the valuation is not out of line with the company's historical performance and the industry's average valuation.\\n\\nOverall, ASML's financials demonstrate a strong and profitable business with a dominant market position. While there are some weaknesses, such as the company's dependence on a few customers and high research and development expenditures, ASML's financial performance and growth prospects are likely to continue driving its valuation higher over the long term.\", additional_kwargs={}, response_metadata={'token_usage': {'completion_tokens': 676, 'prompt_tokens': 29, 'total_tokens': 705, 'completion_time': 0.563333333, 'prompt_time': 0.004195816, 'queue_time': 0.157488032, 'total_time': 0.567529149}, 'model_name': 'llama3-8b-8192', 'system_fingerprint': 'fp_6a6771ae9c', 'finish_reason': 'stop', 'logprobs': None}, id='run-1bc2814e-3a76-40eb-8006-39f1690b0b35-0', usage_metadata={'input_tokens': 29, 'output_tokens': 676, 'total_tokens': 705})"
      ]
     },
     "execution_count": 18,
     "metadata": {},
     "output_type": "execute_result"
    }
   ],
   "source": [
    "response"
   ]
  },
  {
   "cell_type": "code",
   "execution_count": 19,
   "metadata": {},
   "outputs": [
    {
     "name": "stdout",
     "output_type": "stream",
     "text": [
      "ASML Holding NV (ASML) is a Dutch technology company that designs, manufactures, and services semiconductor equipment for the global semiconductor industry. Here's an analysis of its financials:\n",
      "\n",
      "**Financial Highlights**\n",
      "\n",
      "* Market Capitalization: ~€220 billion (approximately $250 billion USD)\n",
      "* Revenue (2020): €14.9 billion (approximately $17.2 billion USD)\n",
      "* Net Income (2020): €4.9 billion (approximately $5.6 billion USD)\n",
      "* Earnings Per Share (2020): €12.34\n",
      "* Cash and Cash Equivalents (2020): €13.4 billion (approximately $15.2 billion USD)\n",
      "* Debt (2020): €6.4 billion (approximately $7.3 billion USD)\n",
      "* Return on Equity (2020): 34.4%\n",
      "* Return on Assets (2020): 25.3%\n",
      "\n",
      "**Key Strengths**\n",
      "\n",
      "1. Dominant Market Position: ASML is the leading supplier of lithography systems, holding a market share of over 70%. This position provides significant pricing power and allows the company to drive industry standards.\n",
      "2. Strong Revenue Growth: ASML has consistently demonstrated strong revenue growth, driven by the increasing demand for semiconductors in various industries, such as smartphones, computers, and automotive.\n",
      "3. High Margin Business: ASML operates in a high-margin business, with gross margins typically above 50%. This is due to the company's focus on high-tech, capital-intensive products with low production costs.\n",
      "4. Strong Cash Generation: ASML generates significant cash from operations, which has allowed the company to invest in research and development, pay dividends, and reduce debt.\n",
      "\n",
      "**Key Weaknesses**\n",
      "\n",
      "1. Capital-Intensive Business: ASML's business requires significant investments in research and development, manufacturing, and service infrastructure. This can lead to high capital expenditures and debt levels.\n",
      "2. Dependence on a Few Customers: ASML's revenue is highly concentrated among a few large customers, primarily chipmakers such as TSMC, Samsung, and Intel. This concentration of customers can lead to revenue volatility and potential risks if these customers experience financial difficulties.\n",
      "3. Cyclical Industry: The semiconductor industry is cyclical, with demand and revenue often fluctuating based on market trends and economic conditions. ASML's financial performance can be impacted by these cyclical fluctuations.\n",
      "4. High Research and Development Expenditures: ASML invests heavily in research and development to stay ahead in the rapidly evolving semiconductor industry. While this investment is essential for the company's long-term success, it can also contribute to high operating expenses and pressure on profitability.\n",
      "\n",
      "**Valuation**\n",
      "\n",
      "ASML's valuation is relatively high, with a price-to-earnings (P/E) ratio of around 40-50. This is due to the company's strong financial performance, dominant market position, and high growth prospects. However, the valuation is not out of line with the company's historical performance and the industry's average valuation.\n",
      "\n",
      "Overall, ASML's financials demonstrate a strong and profitable business with a dominant market position. While there are some weaknesses, such as the company's dependence on a few customers and high research and development expenditures, ASML's financial performance and growth prospects are likely to continue driving its valuation higher over the long term.\n"
     ]
    }
   ],
   "source": [
    "print(response.content)"
   ]
  },
  {
   "cell_type": "markdown",
   "metadata": {},
   "source": [
    "We can actually set up a general prompt so that we have a standard for every potential stock we want to analyze."
   ]
  },
  {
   "cell_type": "code",
   "execution_count": 20,
   "metadata": {},
   "outputs": [],
   "source": [
    "from langchain_core.prompts import ChatPromptTemplate\n",
    "\n",
    "system_template = \"Make a thorough financial analysis of the last 5 years of the following stock: {stock_name}\"\n",
    "\n",
    "prompt_template = ChatPromptTemplate.from_messages(\n",
    "    [(\"system\", system_template), (\"user\", \"{text}\")]\n",
    ")"
   ]
  },
  {
   "cell_type": "code",
   "execution_count": 21,
   "metadata": {},
   "outputs": [
    {
     "data": {
      "text/plain": [
       "ChatPromptValue(messages=[SystemMessage(content='Make a thorough financial analysis of the last 5 years of the following stock: Leonardo', additional_kwargs={}, response_metadata={}), HumanMessage(content='Make a thorough financial analysis of the last 5 years', additional_kwargs={}, response_metadata={})])"
      ]
     },
     "execution_count": 21,
     "metadata": {},
     "output_type": "execute_result"
    },
    {
     "name": "stderr",
     "output_type": "stream",
     "text": [
      "Failed to send compressed multipart ingest: langsmith.utils.LangSmithAuthError: Authentication failed for https://api.smith.langchain.com/runs/multipart. HTTPError('401 Client Error: Unauthorized for url: https://api.smith.langchain.com/runs/multipart', '{\"error\":\"Unauthorized\"}\\n')\n"
     ]
    }
   ],
   "source": [
    "prompt = prompt_template.invoke({\"stock_name\": \"Leonardo\", 'text': \"Make a thorough financial analysis of the last 5 years\"})\n",
    "\n",
    "prompt"
   ]
  },
  {
   "cell_type": "code",
   "execution_count": 22,
   "metadata": {},
   "outputs": [
    {
     "data": {
      "text/plain": [
       "[SystemMessage(content='Make a thorough financial analysis of the last 5 years of the following stock: Leonardo', additional_kwargs={}, response_metadata={}),\n",
       " HumanMessage(content='Make a thorough financial analysis of the last 5 years', additional_kwargs={}, response_metadata={})]"
      ]
     },
     "execution_count": 22,
     "metadata": {},
     "output_type": "execute_result"
    }
   ],
   "source": [
    "prompt.to_messages()"
   ]
  },
  {
   "cell_type": "code",
   "execution_count": 23,
   "metadata": {},
   "outputs": [
    {
     "name": "stderr",
     "output_type": "stream",
     "text": [
      "Failed to send compressed multipart ingest: langsmith.utils.LangSmithAuthError: Authentication failed for https://api.smith.langchain.com/runs/multipart. HTTPError('401 Client Error: Unauthorized for url: https://api.smith.langchain.com/runs/multipart', '{\"error\":\"Unauthorized\"}\\n')\n"
     ]
    },
    {
     "name": "stdout",
     "output_type": "stream",
     "text": [
      "Leonardo S.p.A. is an Italian multinational aerospace, defense, and security company. Here's a thorough financial analysis of the company's performance over the last 5 years (2017-2021):\n",
      "\n",
      "**Financial Highlights**\n",
      "\n",
      "* Revenue growth: Leonardo's revenue has been steadily increasing over the last 5 years, with a compound annual growth rate (CAGR) of 4.1%.\n",
      "* Operating profit margin: The company's operating profit margin has been relatively stable, ranging from 6.5% to 8.3%.\n",
      "* Net profit margin: Leonardo's net profit margin has fluctuated, reaching a high of 5.8% in 2019 and a low of 4.1% in 2020.\n",
      "* Return on equity (ROE): The company's ROE has been declining, from 10.1% in 2017 to 6.5% in 2021.\n",
      "* Cash flow: Leonardo has generated significant cash from operations, with a CAGR of 10.3% over the last 5 years.\n",
      "\n",
      "**Segment Analysis**\n",
      "\n",
      "* Aerospace, Defense, and Security (ADS) segment: This segment accounts for the majority of Leonardo's revenue and has been growing steadily, with a CAGR of 5.3%.\n",
      "* Helicopters & Training segment: This segment has been experiencing a decline in revenue, with a CAGR of -2.5%.\n",
      "* Electronics & Cyber segment: This segment has been growing rapidly, with a CAGR of 14.1%.\n",
      "* helicopters segment: This segment has been declining, with a CAGR of -5.5%.\n",
      "\n",
      "**Growth Drivers and Challenges**\n",
      "\n",
      "* Growth drivers:\n",
      "\t+ Increasing demand for defense and security products and services\n",
      "\t+ Expansion into new markets, such as cybersecurity\n",
      "\t+ Investments in research and development (R&D)\n",
      "* Challenges:\n",
      "\t+ High competition in the aerospace and defense industry\n",
      "\t+ Volatility in the global economy\n",
      "\t+ Pressure to reduce costs and improve efficiency\n",
      "\n",
      "**Valuation**\n",
      "\n",
      "* Price-to-earnings (P/E) ratio: Leonardo's P/E ratio has been relatively high, ranging from 17.2 to 22.3 over the last 5 years.\n",
      "* Price-to-book (P/B) ratio: The company's P/B ratio has been relatively low, ranging from 1.2 to 1.7 over the last 5 years.\n",
      "* Dividend yield: Leonardo has a relatively low dividend yield, ranging from 0.5% to 1.1% over the last 5 years.\n",
      "\n",
      "**Recommendation**\n",
      "\n",
      "Based on the financial analysis, I would recommend Leonardo as a long-term investment opportunity. The company has a strong track record of revenue growth, a stable operating profit margin, and significant cash generation. While there are challenges in the aerospace and defense industry, Leonardo's diversified product portfolio and investment in R&D position it well for future growth.\n",
      "\n",
      "However, investors should be aware of the high P/E ratio and the company's declining ROE. Additionally, the dividend yield is relatively low, which may not be attractive to income-focused investors.\n",
      "\n",
      "**Rating**\n",
      "\n",
      "I would rate Leonardo as a \"Hold\" for long-term investors, with a potential upside of 10-15% over the next 12-18 months. This rating is based on the company's stable financial performance, growth prospects, and relatively low valuation. However, investors should monitor the company's progress and adjust their investment thesis accordingly.\n"
     ]
    },
    {
     "name": "stderr",
     "output_type": "stream",
     "text": [
      "Failed to send compressed multipart ingest: langsmith.utils.LangSmithAuthError: Authentication failed for https://api.smith.langchain.com/runs/multipart. HTTPError('401 Client Error: Unauthorized for url: https://api.smith.langchain.com/runs/multipart', '{\"error\":\"Unauthorized\"}\\n')\n"
     ]
    }
   ],
   "source": [
    "response = model.invoke(prompt)\n",
    "print(response.content)"
   ]
  }
 ],
 "metadata": {
  "kernelspec": {
   "display_name": "Python 3",
   "language": "python",
   "name": "python3"
  },
  "language_info": {
   "codemirror_mode": {
    "name": "ipython",
    "version": 3
   },
   "file_extension": ".py",
   "mimetype": "text/x-python",
   "name": "python",
   "nbconvert_exporter": "python",
   "pygments_lexer": "ipython3",
   "version": "3.9.6"
  }
 },
 "nbformat": 4,
 "nbformat_minor": 2
}
